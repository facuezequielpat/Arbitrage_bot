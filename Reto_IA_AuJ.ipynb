{
  "nbformat": 4,
  "nbformat_minor": 0,
  "metadata": {
    "colab": {
      "provenance": [],
      "gpuType": "T4",
      "authorship_tag": "ABX9TyP8hefcJDbiHDjVWG3UWmXP",
      "include_colab_link": true
    },
    "kernelspec": {
      "name": "python3",
      "display_name": "Python 3"
    },
    "language_info": {
      "name": "python"
    },
    "accelerator": "GPU",
    "widgets": {
      "application/vnd.jupyter.widget-state+json": {
        "a0049560b9004707b4e0a8da455c06d3": {
          "model_module": "@jupyter-widgets/controls",
          "model_name": "HBoxModel",
          "model_module_version": "1.5.0",
          "state": {
            "_dom_classes": [],
            "_model_module": "@jupyter-widgets/controls",
            "_model_module_version": "1.5.0",
            "_model_name": "HBoxModel",
            "_view_count": null,
            "_view_module": "@jupyter-widgets/controls",
            "_view_module_version": "1.5.0",
            "_view_name": "HBoxView",
            "box_style": "",
            "children": [
              "IPY_MODEL_a37e1f22cbbc4acca4402c6b93f40f01",
              "IPY_MODEL_bceaec77e4fa4bd0bb67f5e9937c8bba",
              "IPY_MODEL_fd4a55f26d9c4af7b640b6a65586de74"
            ],
            "layout": "IPY_MODEL_bcd29f32b2d8474cb05a76222a1de263"
          }
        },
        "a37e1f22cbbc4acca4402c6b93f40f01": {
          "model_module": "@jupyter-widgets/controls",
          "model_name": "HTMLModel",
          "model_module_version": "1.5.0",
          "state": {
            "_dom_classes": [],
            "_model_module": "@jupyter-widgets/controls",
            "_model_module_version": "1.5.0",
            "_model_name": "HTMLModel",
            "_view_count": null,
            "_view_module": "@jupyter-widgets/controls",
            "_view_module_version": "1.5.0",
            "_view_name": "HTMLView",
            "description": "",
            "description_tooltip": null,
            "layout": "IPY_MODEL_2a375ff6e6d144a09614aeaaf77459d0",
            "placeholder": "​",
            "style": "IPY_MODEL_372cc0a96f8a435f94ffe5ac4652e583",
            "value": "Loading checkpoint shards: 100%"
          }
        },
        "bceaec77e4fa4bd0bb67f5e9937c8bba": {
          "model_module": "@jupyter-widgets/controls",
          "model_name": "FloatProgressModel",
          "model_module_version": "1.5.0",
          "state": {
            "_dom_classes": [],
            "_model_module": "@jupyter-widgets/controls",
            "_model_module_version": "1.5.0",
            "_model_name": "FloatProgressModel",
            "_view_count": null,
            "_view_module": "@jupyter-widgets/controls",
            "_view_module_version": "1.5.0",
            "_view_name": "ProgressView",
            "bar_style": "success",
            "description": "",
            "description_tooltip": null,
            "layout": "IPY_MODEL_364befde82584e82aa4dda9f9aae55fb",
            "max": 2,
            "min": 0,
            "orientation": "horizontal",
            "style": "IPY_MODEL_c59c0ae57dfc4f47addbd45a3bc43e75",
            "value": 2
          }
        },
        "fd4a55f26d9c4af7b640b6a65586de74": {
          "model_module": "@jupyter-widgets/controls",
          "model_name": "HTMLModel",
          "model_module_version": "1.5.0",
          "state": {
            "_dom_classes": [],
            "_model_module": "@jupyter-widgets/controls",
            "_model_module_version": "1.5.0",
            "_model_name": "HTMLModel",
            "_view_count": null,
            "_view_module": "@jupyter-widgets/controls",
            "_view_module_version": "1.5.0",
            "_view_name": "HTMLView",
            "description": "",
            "description_tooltip": null,
            "layout": "IPY_MODEL_1dcb2577c6e44ad6ae4f0f2bfd24bfde",
            "placeholder": "​",
            "style": "IPY_MODEL_bc2c9a45072b48858f22e9b0b3b4fe1d",
            "value": " 2/2 [00:24&lt;00:00, 11.24s/it]"
          }
        },
        "bcd29f32b2d8474cb05a76222a1de263": {
          "model_module": "@jupyter-widgets/base",
          "model_name": "LayoutModel",
          "model_module_version": "1.2.0",
          "state": {
            "_model_module": "@jupyter-widgets/base",
            "_model_module_version": "1.2.0",
            "_model_name": "LayoutModel",
            "_view_count": null,
            "_view_module": "@jupyter-widgets/base",
            "_view_module_version": "1.2.0",
            "_view_name": "LayoutView",
            "align_content": null,
            "align_items": null,
            "align_self": null,
            "border": null,
            "bottom": null,
            "display": null,
            "flex": null,
            "flex_flow": null,
            "grid_area": null,
            "grid_auto_columns": null,
            "grid_auto_flow": null,
            "grid_auto_rows": null,
            "grid_column": null,
            "grid_gap": null,
            "grid_row": null,
            "grid_template_areas": null,
            "grid_template_columns": null,
            "grid_template_rows": null,
            "height": null,
            "justify_content": null,
            "justify_items": null,
            "left": null,
            "margin": null,
            "max_height": null,
            "max_width": null,
            "min_height": null,
            "min_width": null,
            "object_fit": null,
            "object_position": null,
            "order": null,
            "overflow": null,
            "overflow_x": null,
            "overflow_y": null,
            "padding": null,
            "right": null,
            "top": null,
            "visibility": null,
            "width": null
          }
        },
        "2a375ff6e6d144a09614aeaaf77459d0": {
          "model_module": "@jupyter-widgets/base",
          "model_name": "LayoutModel",
          "model_module_version": "1.2.0",
          "state": {
            "_model_module": "@jupyter-widgets/base",
            "_model_module_version": "1.2.0",
            "_model_name": "LayoutModel",
            "_view_count": null,
            "_view_module": "@jupyter-widgets/base",
            "_view_module_version": "1.2.0",
            "_view_name": "LayoutView",
            "align_content": null,
            "align_items": null,
            "align_self": null,
            "border": null,
            "bottom": null,
            "display": null,
            "flex": null,
            "flex_flow": null,
            "grid_area": null,
            "grid_auto_columns": null,
            "grid_auto_flow": null,
            "grid_auto_rows": null,
            "grid_column": null,
            "grid_gap": null,
            "grid_row": null,
            "grid_template_areas": null,
            "grid_template_columns": null,
            "grid_template_rows": null,
            "height": null,
            "justify_content": null,
            "justify_items": null,
            "left": null,
            "margin": null,
            "max_height": null,
            "max_width": null,
            "min_height": null,
            "min_width": null,
            "object_fit": null,
            "object_position": null,
            "order": null,
            "overflow": null,
            "overflow_x": null,
            "overflow_y": null,
            "padding": null,
            "right": null,
            "top": null,
            "visibility": null,
            "width": null
          }
        },
        "372cc0a96f8a435f94ffe5ac4652e583": {
          "model_module": "@jupyter-widgets/controls",
          "model_name": "DescriptionStyleModel",
          "model_module_version": "1.5.0",
          "state": {
            "_model_module": "@jupyter-widgets/controls",
            "_model_module_version": "1.5.0",
            "_model_name": "DescriptionStyleModel",
            "_view_count": null,
            "_view_module": "@jupyter-widgets/base",
            "_view_module_version": "1.2.0",
            "_view_name": "StyleView",
            "description_width": ""
          }
        },
        "364befde82584e82aa4dda9f9aae55fb": {
          "model_module": "@jupyter-widgets/base",
          "model_name": "LayoutModel",
          "model_module_version": "1.2.0",
          "state": {
            "_model_module": "@jupyter-widgets/base",
            "_model_module_version": "1.2.0",
            "_model_name": "LayoutModel",
            "_view_count": null,
            "_view_module": "@jupyter-widgets/base",
            "_view_module_version": "1.2.0",
            "_view_name": "LayoutView",
            "align_content": null,
            "align_items": null,
            "align_self": null,
            "border": null,
            "bottom": null,
            "display": null,
            "flex": null,
            "flex_flow": null,
            "grid_area": null,
            "grid_auto_columns": null,
            "grid_auto_flow": null,
            "grid_auto_rows": null,
            "grid_column": null,
            "grid_gap": null,
            "grid_row": null,
            "grid_template_areas": null,
            "grid_template_columns": null,
            "grid_template_rows": null,
            "height": null,
            "justify_content": null,
            "justify_items": null,
            "left": null,
            "margin": null,
            "max_height": null,
            "max_width": null,
            "min_height": null,
            "min_width": null,
            "object_fit": null,
            "object_position": null,
            "order": null,
            "overflow": null,
            "overflow_x": null,
            "overflow_y": null,
            "padding": null,
            "right": null,
            "top": null,
            "visibility": null,
            "width": null
          }
        },
        "c59c0ae57dfc4f47addbd45a3bc43e75": {
          "model_module": "@jupyter-widgets/controls",
          "model_name": "ProgressStyleModel",
          "model_module_version": "1.5.0",
          "state": {
            "_model_module": "@jupyter-widgets/controls",
            "_model_module_version": "1.5.0",
            "_model_name": "ProgressStyleModel",
            "_view_count": null,
            "_view_module": "@jupyter-widgets/base",
            "_view_module_version": "1.2.0",
            "_view_name": "StyleView",
            "bar_color": null,
            "description_width": ""
          }
        },
        "1dcb2577c6e44ad6ae4f0f2bfd24bfde": {
          "model_module": "@jupyter-widgets/base",
          "model_name": "LayoutModel",
          "model_module_version": "1.2.0",
          "state": {
            "_model_module": "@jupyter-widgets/base",
            "_model_module_version": "1.2.0",
            "_model_name": "LayoutModel",
            "_view_count": null,
            "_view_module": "@jupyter-widgets/base",
            "_view_module_version": "1.2.0",
            "_view_name": "LayoutView",
            "align_content": null,
            "align_items": null,
            "align_self": null,
            "border": null,
            "bottom": null,
            "display": null,
            "flex": null,
            "flex_flow": null,
            "grid_area": null,
            "grid_auto_columns": null,
            "grid_auto_flow": null,
            "grid_auto_rows": null,
            "grid_column": null,
            "grid_gap": null,
            "grid_row": null,
            "grid_template_areas": null,
            "grid_template_columns": null,
            "grid_template_rows": null,
            "height": null,
            "justify_content": null,
            "justify_items": null,
            "left": null,
            "margin": null,
            "max_height": null,
            "max_width": null,
            "min_height": null,
            "min_width": null,
            "object_fit": null,
            "object_position": null,
            "order": null,
            "overflow": null,
            "overflow_x": null,
            "overflow_y": null,
            "padding": null,
            "right": null,
            "top": null,
            "visibility": null,
            "width": null
          }
        },
        "bc2c9a45072b48858f22e9b0b3b4fe1d": {
          "model_module": "@jupyter-widgets/controls",
          "model_name": "DescriptionStyleModel",
          "model_module_version": "1.5.0",
          "state": {
            "_model_module": "@jupyter-widgets/controls",
            "_model_module_version": "1.5.0",
            "_model_name": "DescriptionStyleModel",
            "_view_count": null,
            "_view_module": "@jupyter-widgets/base",
            "_view_module_version": "1.2.0",
            "_view_name": "StyleView",
            "description_width": ""
          }
        }
      }
    }
  },
  "cells": [
    {
      "cell_type": "markdown",
      "metadata": {
        "id": "view-in-github",
        "colab_type": "text"
      },
      "source": [
        "<a href=\"https://colab.research.google.com/github/facuezequielpat/Arbitrage_bot/blob/master/Reto_IA_AuJ.ipynb\" target=\"_parent\"><img src=\"https://colab.research.google.com/assets/colab-badge.svg\" alt=\"Open In Colab\"/></a>"
      ]
    },
    {
      "cell_type": "markdown",
      "source": [
        "#Instalaciones"
      ],
      "metadata": {
        "id": "J6FOtll4gQQU"
      }
    },
    {
      "cell_type": "code",
      "source": [
        "# %%capture\n",
        "!pip uninstall -y numpy\n",
        "!pip install numpy==1.26.4\n",
        "!pip install transformers>=4.41.2 sentence-transformers>=3.0.1 gensim>=4.3.2 scikit-learn>=1.5.0 accelerate>=0.31.0"
      ],
      "metadata": {
        "colab": {
          "base_uri": "https://localhost:8080/",
          "height": 376
        },
        "id": "6nrmjsm_NDo4",
        "outputId": "1567dc37-0745-40d4-a514-2a992cb0aa41"
      },
      "execution_count": null,
      "outputs": [
        {
          "output_type": "stream",
          "name": "stdout",
          "text": [
            "Found existing installation: numpy 1.26.4\n",
            "Uninstalling numpy-1.26.4:\n",
            "  Successfully uninstalled numpy-1.26.4\n",
            "Collecting numpy==1.26.4\n",
            "  Using cached numpy-1.26.4-cp312-cp312-manylinux_2_17_x86_64.manylinux2014_x86_64.whl.metadata (61 kB)\n",
            "Using cached numpy-1.26.4-cp312-cp312-manylinux_2_17_x86_64.manylinux2014_x86_64.whl (18.0 MB)\n",
            "Installing collected packages: numpy\n",
            "\u001b[31mERROR: pip's dependency resolver does not currently take into account all the packages that are installed. This behaviour is the source of the following dependency conflicts.\n",
            "opencv-python 4.12.0.88 requires numpy<2.3.0,>=2; python_version >= \"3.9\", but you have numpy 1.26.4 which is incompatible.\n",
            "thinc 8.3.6 requires numpy<3.0.0,>=2.0.0, but you have numpy 1.26.4 which is incompatible.\n",
            "opencv-python-headless 4.12.0.88 requires numpy<2.3.0,>=2; python_version >= \"3.9\", but you have numpy 1.26.4 which is incompatible.\n",
            "opencv-contrib-python 4.12.0.88 requires numpy<2.3.0,>=2; python_version >= \"3.9\", but you have numpy 1.26.4 which is incompatible.\u001b[0m\u001b[31m\n",
            "\u001b[0mSuccessfully installed numpy-1.26.4\n"
          ]
        },
        {
          "output_type": "display_data",
          "data": {
            "application/vnd.colab-display-data+json": {
              "pip_warning": {
                "packages": [
                  "numpy"
                ]
              },
              "id": "7d60c2b5152d4ac48f22e55c5ba9f01a"
            }
          },
          "metadata": {}
        },
        {
          "output_type": "stream",
          "name": "stdout",
          "text": [
            "^C\n"
          ]
        }
      ]
    },
    {
      "cell_type": "markdown",
      "source": [
        "#Codigo"
      ],
      "metadata": {
        "id": "VeXLarsJgemk"
      }
    },
    {
      "cell_type": "code",
      "source": [
        "from transformers import AutoModelForCausalLM, AutoTokenizer, AutoModelForSeq2SeqLM"
      ],
      "metadata": {
        "id": "EDURhk4Id3th"
      },
      "execution_count": null,
      "outputs": []
    },
    {
      "cell_type": "code",
      "source": [
        "# Cargar modelo y tokenizador\n",
        "model_name = \"context-labs/meta-llama-Llama-3.2-3B-Instruct-FP16\"\n",
        "tokenizer = AutoTokenizer.from_pretrained(model_name)#carga el tokenizador que convierte texto en tokens numéricos.\n",
        "model = AutoModelForCausalLM.from_pretrained(\n",
        "    model_name,\n",
        "    device_map=\"cuda\",   # Cambia a \"cuda\" si tenés GPU\n",
        "    torch_dtype=\"auto\"\n",
        ")#\n",
        "\n",
        "# Prompt de instrucción\n",
        "prompt = \"\"\"\n",
        "Recomienda 3 películas en formato JSON.\n",
        "Cada película debe tener:\n",
        "- título\n",
        "- género\n",
        "- motivo de recomendación\n",
        "\n",
        "Ejemplo de formato:\n",
        "[\n",
        "  {\"título\": \"...\", \"género\": \"...\", \"motivo\": \"...\"},\n",
        "  {\"título\": \"...\", \"género\": \"...\", \"motivo\": \"...\"},\n",
        "  {\"título\": \"...\", \"género\": \"...\", \"motivo\": \"...\"}\n",
        "]\n",
        "\"\"\"\n",
        "\n",
        "# Tokenizar entrada\n",
        "inputs = tokenizer(prompt, return_tensors=\"pt\").to(model.device)\n",
        "\n",
        "# Generar salida\n",
        "outputs = model.generate(\n",
        "    **inputs,\n",
        "    max_new_tokens=300,\n",
        "    temperature=0.7,  # más creatividad\n",
        "    top_p=0.9\n",
        ")\n",
        "\n",
        "# Decodificar y mostrar\n",
        "result = tokenizer.decode(outputs[0], skip_special_tokens=True)\n",
        "print(result)"
      ],
      "metadata": {
        "colab": {
          "base_uri": "https://localhost:8080/",
          "height": 798,
          "referenced_widgets": [
            "a0049560b9004707b4e0a8da455c06d3",
            "a37e1f22cbbc4acca4402c6b93f40f01",
            "bceaec77e4fa4bd0bb67f5e9937c8bba",
            "fd4a55f26d9c4af7b640b6a65586de74",
            "bcd29f32b2d8474cb05a76222a1de263",
            "2a375ff6e6d144a09614aeaaf77459d0",
            "372cc0a96f8a435f94ffe5ac4652e583",
            "364befde82584e82aa4dda9f9aae55fb",
            "c59c0ae57dfc4f47addbd45a3bc43e75",
            "1dcb2577c6e44ad6ae4f0f2bfd24bfde",
            "bc2c9a45072b48858f22e9b0b3b4fe1d"
          ]
        },
        "id": "3ep4POSUSy9k",
        "outputId": "d52f7c30-01db-4967-efa0-cb86cb670089"
      },
      "execution_count": null,
      "outputs": [
        {
          "output_type": "display_data",
          "data": {
            "text/plain": [
              "Loading checkpoint shards:   0%|          | 0/2 [00:00<?, ?it/s]"
            ],
            "application/vnd.jupyter.widget-view+json": {
              "version_major": 2,
              "version_minor": 0,
              "model_id": "a0049560b9004707b4e0a8da455c06d3"
            }
          },
          "metadata": {}
        },
        {
          "output_type": "stream",
          "name": "stderr",
          "text": [
            "Setting `pad_token_id` to `eos_token_id`:128001 for open-end generation.\n"
          ]
        },
        {
          "output_type": "stream",
          "name": "stdout",
          "text": [
            "\n",
            "Recomienda 3 películas en formato JSON.\n",
            "Cada película debe tener:\n",
            "- título\n",
            "- género\n",
            "- motivo de recomendación\n",
            "\n",
            "Ejemplo de formato:\n",
            "[\n",
            "  {\"título\": \"...\", \"género\": \"...\", \"motivo\": \"...\"},\n",
            "  {\"título\": \"...\", \"género\": \"...\", \"motivo\": \"...\"},\n",
            "  {\"título\": \"...\", \"género\": \"...\", \"motivo\": \"...\"}\n",
            "]\n",
            "```json\n",
            "{\n",
            "  \"películas\": [\n",
            "    {\n",
            "      \"título\": \"Inception\",\n",
            "      \"género\": \"acción, ciencia ficción\",\n",
            "      \"motivo\": \"Si te gusta el género acción, te recomiendo esta película por su ritmo constante y sus efectos visuales impresionantes. Además, si te gusta la ciencia ficción, te presentará conceptos interesantes sobre la realidad y la percepción.\"\n",
            "    },\n",
            "    {\n",
            "      \"título\": \"La lista de Schrödinger\",\n",
            "      \"género\": \"comedia, drama\",\n",
            "      \"motivo\": \"Esta película es una comedia ligera que te hará reír, pero también tiene un toque de drama que te hará reflexionar sobre la vida y las decisiones que tomamos.\"\n",
            "    },\n",
            "    {\n",
            "      \"título\": \"El Señor de los Anillos: La Comunidad del Anillo\",\n",
            "      \"género\": \"aventura, fantasía\",\n",
            "      \"motivo\": \"Si te gusta la fantasía y las aventuras, te recomiendo esta película por su mundo rico y detallado, y su historia épica que te llevará a un mundo mágico.\"\n",
            "    }\n",
            "  ]\n",
            "}\n",
            "```json\n",
            "\n",
            "Estas son las 3 películas que te recomiendo:\n",
            "```json\n",
            "{\n",
            "  \"películas\": [\n",
            "    {\n",
            "      \"título\n"
          ]
        }
      ]
    },
    {
      "cell_type": "code",
      "source": [
        "from google import genai\n",
        "from google.colab import userdata\n",
        "\n",
        "# Get the API key from Colab secrets\n",
        "api_key = userdata.get('gemini')\n",
        "\n",
        "# Initialize the client with the API key\n",
        "client = genai.Client(api_key=api_key)\n",
        "\n",
        "response = client.models.generate_content(\n",
        "    model=\"gemini-2.5-flash\",\n",
        "    contents=\"\"\"Proporcione una lista de tres recomendaciones de películas en formato JSON.\n",
        "\n",
        "Cada película debe incluir:\n",
        "\n",
        "“Título”: el título de la película\n",
        "“Género”: el género de la película\n",
        "“Motivo”: el motivo por el que recomienda la película\n",
        "Asegúrese de que el JSON esté correctamente estructurado y siga el siguiente formato:\n",
        "[\n",
        "{“Título”: “Título de la película 1”, “Género”: “Género 1”, “motivo”: “Motivo para recomendar la película 1”},\n",
        "{“Título”: “Título de la película 2”, “Género”: “Género 2”, “motivo”: “Motivo para recomendar la película 2”},\n",
        "{“Título”: “Título de la película 3”, “Género”: “Género 3”, “motivo”: “Motivo para recomendar la película 3”}\n",
        "]\"\"\",\n",
        ")\n",
        "\n",
        "print(response.text)"
      ],
      "metadata": {
        "colab": {
          "base_uri": "https://localhost:8080/"
        },
        "id": "DcMbb1DuUhIV",
        "outputId": "9cd1ce66-a980-44b5-8be6-5e08616bf142"
      },
      "execution_count": null,
      "outputs": [
        {
          "output_type": "stream",
          "name": "stdout",
          "text": [
            "```json\n",
            "[\n",
            "  {\n",
            "    \"Título\": \"Interstellar\",\n",
            "    \"Género\": \"Ciencia Ficción\",\n",
            "    \"Motivo\": \"Una obra maestra visual y conceptual que explora temas profundos como el tiempo, la paternidad y el futuro de la humanidad, con una banda sonora inolvidable.\"\n",
            "  },\n",
            "  {\n",
            "    \"Título\": \"El Padrino\",\n",
            "    \"Género\": \"Drama Criminal\",\n",
            "    \"Motivo\": \"Un clásico atemporal que define el género de gánsteres, con actuaciones legendarias, una dirección impecable y una historia compleja sobre la familia, el poder y la lealtad.\"\n",
            "  },\n",
            "  {\n",
            "    \"Título\": \"Amélie\",\n",
            "    \"Género\": \"Comedia Romántica / Fantasía\",\n",
            "    \"Motivo\": \"Una película encantadora y visualmente poética que te transporta a un París mágico, llena de personajes excéntricos y un optimismo contagioso que te dejará con una sonrisa.\"\n",
            "  }\n",
            "]\n",
            "```\n"
          ]
        }
      ]
    },
    {
      "cell_type": "markdown",
      "source": [
        "#Por que funcionan mis prompts?"
      ],
      "metadata": {
        "id": "wWU5broZgC9V"
      }
    },
    {
      "cell_type": "markdown",
      "source": [
        "##Prompts\n"
      ],
      "metadata": {
        "id": "yX8h74s7g8wD"
      }
    },
    {
      "cell_type": "markdown",
      "source": [
        "\n",
        "Recomienda 3 películas en formato JSON.\n",
        "Cada película debe tener:\n",
        "- título\n",
        "- género\n",
        "- motivo de recomendación\n",
        "\n",
        "Ejemplo de formato:\n",
        "\"\"\"[\n",
        "  {\"título\": \"...\", \"género\": \"...\", \"motivo\": \"...\"},\n",
        "  {\"título\": \"...\", \"género\": \"...\", \"motivo\": \"...\"},\n",
        "  {\"título\": \"...\", \"género\": \"...\", \"motivo\": \"...\"}\n",
        "]\"\"\"\n",
        "\n",
        "\n"
      ],
      "metadata": {
        "id": "w96X9Jq5gNOq"
      }
    },
    {
      "cell_type": "markdown",
      "source": [
        "Proporcione una lista de tres recomendaciones de películas en formato JSON.\n",
        "\n",
        "Cada película debe incluir:\n",
        "\n",
        "“Título”: el título de la película\n",
        "\n",
        "“Género”: el género de la película\n",
        "\n",
        "“Motivo”: el motivo por el que recomienda la película\n",
        "\n",
        "Asegúrese de que el JSON esté correctamente estructurado y siga el siguiente formato:\n",
        "\n",
        "[\n",
        "{“Título”: “Título de la película 1”, “Género”: “Género 1”, “motivo”: “Motivo para recomendar la película 1”},\n",
        "\n",
        "{“Título”: “Título de la película 2”, “Género”: “Género 2”, “motivo”: “Motivo para recomendar la película 2”},\n",
        "\n",
        "{“Título”: “Título de la película 3”, “Género”: “Género 3”, “motivo”: “Motivo para recomendar la película 3”}\n",
        "]"
      ],
      "metadata": {
        "id": "1Eqfy5bkhF2C"
      }
    },
    {
      "cell_type": "markdown",
      "source": [
        "##Salidas"
      ],
      "metadata": {
        "id": "A0tr6u5NhgRR"
      }
    },
    {
      "cell_type": "markdown",
      "source": [
        "[\n",
        "  {\n",
        "    \"título\": \"Pulp Fiction\",\n",
        "    \"género\": \"Accion\",\n",
        "    \"motivo\": \"La mezcla perfecta de acción, drama y humor\"\n",
        "  },\n",
        "\n",
        "  {\n",
        "    \"título\": \"La lista de Schindler\",\n",
        "    \"género\": \"Drama\",\n",
        "    \"motivo\": \"Un relato poderoso y emotivo sobre la humanidad\"\n",
        "  },\n",
        "  \n",
        "  {\n",
        "    \"título\": \"Inception\",\n",
        "    \"género\": \"Ciencia ficción\",\n",
        "    \"motivo\": \"Una experiencia visual y mental deslumbrante\"\n",
        "  }\n",
        "]"
      ],
      "metadata": {
        "id": "sio54fNoh7vy"
      }
    },
    {
      "cell_type": "markdown",
      "source": [
        "[\n",
        "  {\n",
        "    \"Título\": \"Interstellar\",\n",
        "    \"Género\": \"Ciencia Ficción\",\n",
        "    \"Motivo\": \"Una obra maestra visual y conceptual que explora temas profundos como el tiempo, la paternidad y el futuro de la humanidad, con una banda sonora inolvidable.\"\n",
        "  },\n",
        "\n",
        "  {\n",
        "    \"Título\": \"El Padrino\",\n",
        "    \"Género\": \"Drama Criminal\",\n",
        "    \"Motivo\": \"Un clásico atemporal que define el género de gánsteres, con actuaciones legendarias, una dirección impecable y una historia compleja sobre la familia, el poder y la lealtad.\"\n",
        "  },\n",
        "  \n",
        "  {\n",
        "    \"Título\": \"Amélie\",\n",
        "    \"Género\": \"Comedia Romántica / Fantasía\",\n",
        "    \"Motivo\": \"Una película encantadora y visualmente poética que te transporta a un París mágico, llena de personajes excéntricos y un optimismo contagioso que te dejará con una sonrisa.\"\n",
        "  }\n",
        "]"
      ],
      "metadata": {
        "id": "GyLIBfr0hlp5"
      }
    },
    {
      "cell_type": "markdown",
      "source": [
        "##Porque?\n"
      ],
      "metadata": {
        "id": "7Z1_pGn5iZ0Q"
      }
    },
    {
      "cell_type": "markdown",
      "source": [
        "Este prompt funciona porque da **instrucciones claras** al modelo, indicando tanto la **estructura del JSON** como los **campos requeridos**.  \n",
        "Además, incluye un **ejemplo de salida** que el modelo replica con coherencia."
      ],
      "metadata": {
        "id": "j3g_mLFTiiGP"
      }
    }
  ]
}